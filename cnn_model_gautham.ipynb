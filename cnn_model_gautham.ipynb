{
 "cells": [
  {
   "cell_type": "code",
   "execution_count": 1,
   "metadata": {},
   "outputs": [
    {
     "name": "stderr",
     "output_type": "stream",
     "text": [
      "2023-10-09 07:15:11.665343: I tensorflow/core/platform/cpu_feature_guard.cc:193] This TensorFlow binary is optimized with oneAPI Deep Neural Network Library (oneDNN) to use the following CPU instructions in performance-critical operations:  AVX2 AVX512F FMA\n",
      "To enable them in other operations, rebuild TensorFlow with the appropriate compiler flags.\n",
      "2023-10-09 07:15:11.795195: E tensorflow/stream_executor/cuda/cuda_blas.cc:2981] Unable to register cuBLAS factory: Attempting to register factory for plugin cuBLAS when one has already been registered\n",
      "2023-10-09 07:15:12.287831: W tensorflow/stream_executor/platform/default/dso_loader.cc:64] Could not load dynamic library 'libnvinfer.so.7'; dlerror: libnvinfer.so.7: cannot open shared object file: No such file or directory; LD_LIBRARY_PATH: /home/jonat/miniconda3/lib/python3.11/site-packages/nvidia/cudnn/lib:/home/jonat/miniconda3/lib/:/home/jonat/miniconda3/lib/python3.11/site-packages/nvidia/cudnn/lib:/home/jonat/miniconda3/lib/:\n",
      "2023-10-09 07:15:12.287943: W tensorflow/stream_executor/platform/default/dso_loader.cc:64] Could not load dynamic library 'libnvinfer_plugin.so.7'; dlerror: libnvinfer_plugin.so.7: cannot open shared object file: No such file or directory; LD_LIBRARY_PATH: /home/jonat/miniconda3/lib/python3.11/site-packages/nvidia/cudnn/lib:/home/jonat/miniconda3/lib/:/home/jonat/miniconda3/lib/python3.11/site-packages/nvidia/cudnn/lib:/home/jonat/miniconda3/lib/:\n",
      "2023-10-09 07:15:12.287950: W tensorflow/compiler/tf2tensorrt/utils/py_utils.cc:38] TF-TRT Warning: Cannot dlopen some TensorRT libraries. If you would like to use Nvidia GPU with TensorRT, please make sure the missing libraries mentioned above are installed properly.\n"
     ]
    }
   ],
   "source": [
    "import os\n",
    "import librosa\n",
    "import pandas as pd\n",
    "import numpy as np\n",
    "from sklearn.model_selection import train_test_split\n",
    "from sklearn.preprocessing import LabelEncoder\n",
    "from keras.models import Sequential\n",
    "from keras.layers import Conv2D, MaxPooling2D, Flatten, Dense, Dropout\n",
    "from keras.utils import to_categorical\n",
    "\n",
    "# Step 1: Load and preprocess the dataset\n",
    "\n",
    "# Define the directory where your audio files are located\n",
    "audio_directory = '/home/jonat/datasets/release_in_the_wild'\n",
    "\n",
    "# Load the CSV file containing file, speaker, and label information\n",
    "metadata_file = '/home/jonat/datasets/release_in_the_wild/meta.csv'\n",
    "metadata_df = pd.read_csv(metadata_file)\n",
    "\n",
    "# Initialize lists to store MFCCs and corresponding labels\n",
    "X_mfccs = []\n",
    "y_labels = []\n",
    "\n",
    "# Define parameters for MFCC extraction\n",
    "n_mfcc = 13\n",
    "max_length = 100  # You can adjust this value as needed\n",
    "\n",
    "# Loop through each row in the metadata dataframe\n",
    "for index, row in metadata_df.iterrows():\n",
    "    file_path = os.path.join(audio_directory, row['file'])\n",
    "    audio, sr = librosa.load(file_path, sr=None)\n",
    "    \n",
    "    # Extract MFCC features\n",
    "    mfccs = librosa.feature.mfcc(y=audio, sr=sr, n_mfcc=n_mfcc)\n",
    "    \n",
    "    # Ensure that all MFCCs have the same length\n",
    "    if mfccs.shape[1] < max_length:\n",
    "        mfccs = np.pad(mfccs, ((0, 0), (0, max_length - mfccs.shape[1])), mode='constant')\n",
    "    else:\n",
    "        mfccs = mfccs[:, :max_length]\n",
    "    \n",
    "    X_mfccs.append(mfccs)\n",
    "    y_labels.append(row['label'])\n",
    "\n",
    "# Convert lists to NumPy arrays\n",
    "X_mfccs = np.array(X_mfccs)\n",
    "y_labels = np.array(y_labels)"
   ]
  },
  {
   "cell_type": "code",
   "execution_count": 2,
   "metadata": {},
   "outputs": [],
   "source": [
    "# Convert lists to NumPy arrays\n",
    "X_mfccs = np.array(X_mfccs)\n",
    "y_labels = np.array(y_labels)\n",
    "\n",
    "# Step 2: Encode the labels\n",
    "\n",
    "label_encoder = LabelEncoder()\n",
    "y_encoded = label_encoder.fit_transform(y_labels)\n",
    "\n",
    "# Step 3: Split the dataset into train and test sets\n",
    "\n",
    "X_train, X_test, y_train, y_test = train_test_split(X_mfccs, y_encoded, test_size=0.2, random_state=42)\n"
   ]
  },
  {
   "cell_type": "code",
   "execution_count": 3,
   "metadata": {},
   "outputs": [
    {
     "name": "stdout",
     "output_type": "stream",
     "text": [
      "Epoch 1/10\n"
     ]
    },
    {
     "name": "stderr",
     "output_type": "stream",
     "text": [
      "2023-10-09 07:19:32.658025: I tensorflow/core/platform/cpu_feature_guard.cc:193] This TensorFlow binary is optimized with oneAPI Deep Neural Network Library (oneDNN) to use the following CPU instructions in performance-critical operations:  AVX2 AVX512F FMA\n",
      "To enable them in other operations, rebuild TensorFlow with the appropriate compiler flags.\n",
      "2023-10-09 07:19:33.337186: I tensorflow/core/common_runtime/gpu/gpu_device.cc:1616] Created device /job:localhost/replica:0/task:0/device:GPU:0 with 22831 MB memory:  -> device: 0, name: NVIDIA TITAN RTX, pci bus id: 0000:1a:00.0, compute capability: 7.5\n",
      "2023-10-09 07:19:33.337951: I tensorflow/core/common_runtime/gpu/gpu_device.cc:1616] Created device /job:localhost/replica:0/task:0/device:GPU:1 with 22761 MB memory:  -> device: 1, name: NVIDIA TITAN RTX, pci bus id: 0000:68:00.0, compute capability: 7.5\n",
      "2023-10-09 07:19:34.833072: I tensorflow/stream_executor/cuda/cuda_dnn.cc:384] Loaded cuDNN version 8600\n"
     ]
    },
    {
     "name": "stdout",
     "output_type": "stream",
     "text": [
      "  1/795 [..............................] - ETA: 22:35 - loss: 20.6434 - accuracy: 0.2812"
     ]
    },
    {
     "name": "stderr",
     "output_type": "stream",
     "text": [
      "2023-10-09 07:19:35.348838: I tensorflow/core/platform/default/subprocess.cc:304] Start cannot spawn child process: No such file or directory\n",
      "2023-10-09 07:19:35.349673: I tensorflow/core/platform/default/subprocess.cc:304] Start cannot spawn child process: No such file or directory\n",
      "2023-10-09 07:19:35.349688: W tensorflow/stream_executor/gpu/asm_compiler.cc:80] Couldn't get ptxas version string: INTERNAL: Couldn't invoke ptxas --version\n",
      "2023-10-09 07:19:35.350455: I tensorflow/core/platform/default/subprocess.cc:304] Start cannot spawn child process: No such file or directory\n",
      "2023-10-09 07:19:35.350492: W tensorflow/stream_executor/gpu/redzone_allocator.cc:314] INTERNAL: Failed to launch ptxas\n",
      "Relying on driver to perform ptx compilation. \n",
      "Modify $PATH to customize ptxas location.\n",
      "This message will be only logged once.\n"
     ]
    },
    {
     "name": "stdout",
     "output_type": "stream",
     "text": [
      "795/795 [==============================] - 8s 7ms/step - loss: 0.5468 - accuracy: 0.8408 - val_loss: 0.2278 - val_accuracy: 0.9095\n",
      "Epoch 2/10\n",
      "795/795 [==============================] - 6s 7ms/step - loss: 0.2281 - accuracy: 0.9116 - val_loss: 0.1921 - val_accuracy: 0.9251\n",
      "Epoch 3/10\n",
      "795/795 [==============================] - 6s 7ms/step - loss: 0.1807 - accuracy: 0.9323 - val_loss: 0.1598 - val_accuracy: 0.9386\n",
      "Epoch 4/10\n",
      "795/795 [==============================] - 6s 7ms/step - loss: 0.1514 - accuracy: 0.9430 - val_loss: 0.1381 - val_accuracy: 0.9509\n",
      "Epoch 5/10\n",
      "795/795 [==============================] - 6s 7ms/step - loss: 0.1315 - accuracy: 0.9507 - val_loss: 0.1222 - val_accuracy: 0.9563\n",
      "Epoch 6/10\n",
      "795/795 [==============================] - 6s 7ms/step - loss: 0.1196 - accuracy: 0.9559 - val_loss: 0.1461 - val_accuracy: 0.9449\n",
      "Epoch 7/10\n",
      "795/795 [==============================] - 6s 7ms/step - loss: 0.1059 - accuracy: 0.9604 - val_loss: 0.1321 - val_accuracy: 0.9528\n",
      "Epoch 8/10\n",
      "795/795 [==============================] - 6s 7ms/step - loss: 0.1011 - accuracy: 0.9631 - val_loss: 0.1237 - val_accuracy: 0.9558\n",
      "Epoch 9/10\n",
      "795/795 [==============================] - 6s 7ms/step - loss: 0.0842 - accuracy: 0.9696 - val_loss: 0.0993 - val_accuracy: 0.9668\n",
      "Epoch 10/10\n",
      "795/795 [==============================] - 6s 7ms/step - loss: 0.0796 - accuracy: 0.9721 - val_loss: 0.1096 - val_accuracy: 0.9637\n",
      "199/199 [==============================] - 1s 4ms/step - loss: 0.1096 - accuracy: 0.9637\n",
      "Test Loss: 0.10957839339971542\n",
      "Test Accuracy: 0.9636563658714294\n"
     ]
    }
   ],
   "source": [
    "# Step 4: Build and train the CNN model\n",
    "\n",
    "input_shape = (n_mfcc, max_length, 1)  # Input shape for CNN (height, width, channels)\n",
    "\n",
    "model = Sequential()\n",
    "model.add(Conv2D(32, kernel_size=(3, 3), activation='relu', input_shape=input_shape))\n",
    "model.add(MaxPooling2D(pool_size=(2, 2)))\n",
    "model.add(Conv2D(64, kernel_size=(3, 3), activation='relu'))\n",
    "model.add(MaxPooling2D(pool_size=(2, 2)))\n",
    "model.add(Flatten())\n",
    "model.add(Dense(128, activation='relu'))\n",
    "model.add(Dropout(0.5))\n",
    "model.add(Dense(1, activation='sigmoid'))  # Binary classification, so use sigmoid activation\n",
    "\n",
    "model.compile(optimizer='adam', loss='binary_crossentropy', metrics=['accuracy'])\n",
    "\n",
    "# Train the model\n",
    "model.fit(X_train, y_train, batch_size=32, epochs=10, validation_data=(X_test, y_test))\n",
    "\n",
    "# Step 5: Evaluate the model\n",
    "test_loss, test_accuracy = model.evaluate(X_test, y_test)\n",
    "print(f'Test Loss: {test_loss}')\n",
    "print(f'Test Accuracy: {test_accuracy}')"
   ]
  },
  {
   "cell_type": "code",
   "execution_count": 8,
   "metadata": {},
   "outputs": [
    {
     "ename": "",
     "evalue": "",
     "output_type": "error",
     "traceback": [
      "\u001b[1;31mThe Kernel crashed while executing code in the the current cell or a previous cell. Please review the code in the cell(s) to identify a possible cause of the failure. Click <a href='https://aka.ms/vscodeJupyterKernelCrash'>here</a> for more info. View Jupyter <a href='command:jupyter.viewOutput'>log</a> for further details."
     ]
    }
   ],
   "source": [
    "model.save('gautham-model.h5')"
   ]
  },
  {
   "cell_type": "code",
   "execution_count": 1,
   "metadata": {},
   "outputs": [
    {
     "name": "stderr",
     "output_type": "stream",
     "text": [
      "2023-10-09 08:16:41.612468: I tensorflow/core/platform/cpu_feature_guard.cc:193] This TensorFlow binary is optimized with oneAPI Deep Neural Network Library (oneDNN) to use the following CPU instructions in performance-critical operations:  AVX2 AVX512F FMA\n",
      "To enable them in other operations, rebuild TensorFlow with the appropriate compiler flags.\n",
      "2023-10-09 08:16:42.432287: I tensorflow/core/common_runtime/gpu/gpu_device.cc:1532] Created device /job:localhost/replica:0/task:0/device:GPU:0 with 69 MB memory:  -> device: 0, name: NVIDIA TITAN RTX, pci bus id: 0000:1a:00.0, compute capability: 7.5\n",
      "2023-10-09 08:16:42.432882: I tensorflow/core/common_runtime/gpu/gpu_device.cc:1532] Created device /job:localhost/replica:0/task:0/device:GPU:1 with 22450 MB memory:  -> device: 1, name: NVIDIA TITAN RTX, pci bus id: 0000:68:00.0, compute capability: 7.5\n",
      "2023-10-09 08:16:44.507499: E tensorflow/stream_executor/cuda/cuda_dnn.cc:389] Could not create cudnn handle: CUDNN_STATUS_NOT_INITIALIZED\n",
      "2023-10-09 08:16:44.507640: E tensorflow/stream_executor/cuda/cuda_dnn.cc:398] Possibly insufficient driver version: 515.105.1\n",
      "2023-10-09 08:16:44.507709: W tensorflow/core/framework/op_kernel.cc:1745] OP_REQUIRES failed at conv_ops.cc:1120 : UNIMPLEMENTED: DNN library is not found.\n"
     ]
    },
    {
     "ename": "UnimplementedError",
     "evalue": "Graph execution error:\n\nDetected at node 'sequential/conv2d/Conv2D' defined at (most recent call last):\n    File \"/home/jonat/miniconda3/envs/ASV/lib/python3.9/runpy.py\", line 197, in _run_module_as_main\n      return _run_code(code, main_globals, None,\n    File \"/home/jonat/miniconda3/envs/ASV/lib/python3.9/runpy.py\", line 87, in _run_code\n      exec(code, run_globals)\n    File \"/home/jonat/miniconda3/envs/ASV/lib/python3.9/site-packages/ipykernel_launcher.py\", line 17, in <module>\n      app.launch_new_instance()\n    File \"/home/jonat/miniconda3/envs/ASV/lib/python3.9/site-packages/traitlets/config/application.py\", line 1053, in launch_instance\n      app.start()\n    File \"/home/jonat/miniconda3/envs/ASV/lib/python3.9/site-packages/ipykernel/kernelapp.py\", line 736, in start\n      self.io_loop.start()\n    File \"/home/jonat/miniconda3/envs/ASV/lib/python3.9/site-packages/tornado/platform/asyncio.py\", line 199, in start\n      self.asyncio_loop.run_forever()\n    File \"/home/jonat/miniconda3/envs/ASV/lib/python3.9/asyncio/base_events.py\", line 601, in run_forever\n      self._run_once()\n    File \"/home/jonat/miniconda3/envs/ASV/lib/python3.9/asyncio/base_events.py\", line 1905, in _run_once\n      handle._run()\n    File \"/home/jonat/miniconda3/envs/ASV/lib/python3.9/asyncio/events.py\", line 80, in _run\n      self._context.run(self._callback, *self._args)\n    File \"/home/jonat/miniconda3/envs/ASV/lib/python3.9/site-packages/ipykernel/kernelbase.py\", line 516, in dispatch_queue\n      await self.process_one()\n    File \"/home/jonat/miniconda3/envs/ASV/lib/python3.9/site-packages/ipykernel/kernelbase.py\", line 505, in process_one\n      await dispatch(*args)\n    File \"/home/jonat/miniconda3/envs/ASV/lib/python3.9/site-packages/ipykernel/kernelbase.py\", line 412, in dispatch_shell\n      await result\n    File \"/home/jonat/miniconda3/envs/ASV/lib/python3.9/site-packages/ipykernel/kernelbase.py\", line 740, in execute_request\n      reply_content = await reply_content\n    File \"/home/jonat/miniconda3/envs/ASV/lib/python3.9/site-packages/ipykernel/ipkernel.py\", line 422, in do_execute\n      res = shell.run_cell(\n    File \"/home/jonat/miniconda3/envs/ASV/lib/python3.9/site-packages/ipykernel/zmqshell.py\", line 546, in run_cell\n      return super().run_cell(*args, **kwargs)\n    File \"/home/jonat/miniconda3/envs/ASV/lib/python3.9/site-packages/IPython/core/interactiveshell.py\", line 3024, in run_cell\n      result = self._run_cell(\n    File \"/home/jonat/miniconda3/envs/ASV/lib/python3.9/site-packages/IPython/core/interactiveshell.py\", line 3079, in _run_cell\n      result = runner(coro)\n    File \"/home/jonat/miniconda3/envs/ASV/lib/python3.9/site-packages/IPython/core/async_helpers.py\", line 129, in _pseudo_sync_runner\n      coro.send(None)\n    File \"/home/jonat/miniconda3/envs/ASV/lib/python3.9/site-packages/IPython/core/interactiveshell.py\", line 3284, in run_cell_async\n      has_raised = await self.run_ast_nodes(code_ast.body, cell_name,\n    File \"/home/jonat/miniconda3/envs/ASV/lib/python3.9/site-packages/IPython/core/interactiveshell.py\", line 3466, in run_ast_nodes\n      if await self.run_code(code, result, async_=asy):\n    File \"/home/jonat/miniconda3/envs/ASV/lib/python3.9/site-packages/IPython/core/interactiveshell.py\", line 3526, in run_code\n      exec(code_obj, self.user_global_ns, self.user_ns)\n    File \"/tmp/ipykernel_6542/846090201.py\", line 38, in <module>\n      predictions = model.predict(mfccs)\n    File \"/home/jonat/miniconda3/envs/ASV/lib/python3.9/site-packages/keras/utils/traceback_utils.py\", line 64, in error_handler\n      return fn(*args, **kwargs)\n    File \"/home/jonat/miniconda3/envs/ASV/lib/python3.9/site-packages/keras/engine/training.py\", line 2033, in predict\n      tmp_batch_outputs = self.predict_function(iterator)\n    File \"/home/jonat/miniconda3/envs/ASV/lib/python3.9/site-packages/keras/engine/training.py\", line 1845, in predict_function\n      return step_function(self, iterator)\n    File \"/home/jonat/miniconda3/envs/ASV/lib/python3.9/site-packages/keras/engine/training.py\", line 1834, in step_function\n      outputs = model.distribute_strategy.run(run_step, args=(data,))\n    File \"/home/jonat/miniconda3/envs/ASV/lib/python3.9/site-packages/keras/engine/training.py\", line 1823, in run_step\n      outputs = model.predict_step(data)\n    File \"/home/jonat/miniconda3/envs/ASV/lib/python3.9/site-packages/keras/engine/training.py\", line 1791, in predict_step\n      return self(x, training=False)\n    File \"/home/jonat/miniconda3/envs/ASV/lib/python3.9/site-packages/keras/utils/traceback_utils.py\", line 64, in error_handler\n      return fn(*args, **kwargs)\n    File \"/home/jonat/miniconda3/envs/ASV/lib/python3.9/site-packages/keras/engine/training.py\", line 490, in __call__\n      return super().__call__(*args, **kwargs)\n    File \"/home/jonat/miniconda3/envs/ASV/lib/python3.9/site-packages/keras/utils/traceback_utils.py\", line 64, in error_handler\n      return fn(*args, **kwargs)\n    File \"/home/jonat/miniconda3/envs/ASV/lib/python3.9/site-packages/keras/engine/base_layer.py\", line 1014, in __call__\n      outputs = call_fn(inputs, *args, **kwargs)\n    File \"/home/jonat/miniconda3/envs/ASV/lib/python3.9/site-packages/keras/utils/traceback_utils.py\", line 92, in error_handler\n      return fn(*args, **kwargs)\n    File \"/home/jonat/miniconda3/envs/ASV/lib/python3.9/site-packages/keras/engine/sequential.py\", line 374, in call\n      return super(Sequential, self).call(inputs, training=training, mask=mask)\n    File \"/home/jonat/miniconda3/envs/ASV/lib/python3.9/site-packages/keras/engine/functional.py\", line 458, in call\n      return self._run_internal_graph(\n    File \"/home/jonat/miniconda3/envs/ASV/lib/python3.9/site-packages/keras/engine/functional.py\", line 596, in _run_internal_graph\n      outputs = node.layer(*args, **kwargs)\n    File \"/home/jonat/miniconda3/envs/ASV/lib/python3.9/site-packages/keras/utils/traceback_utils.py\", line 64, in error_handler\n      return fn(*args, **kwargs)\n    File \"/home/jonat/miniconda3/envs/ASV/lib/python3.9/site-packages/keras/engine/base_layer.py\", line 1014, in __call__\n      outputs = call_fn(inputs, *args, **kwargs)\n    File \"/home/jonat/miniconda3/envs/ASV/lib/python3.9/site-packages/keras/utils/traceback_utils.py\", line 92, in error_handler\n      return fn(*args, **kwargs)\n    File \"/home/jonat/miniconda3/envs/ASV/lib/python3.9/site-packages/keras/layers/convolutional/base_conv.py\", line 250, in call\n      outputs = self.convolution_op(inputs, self.kernel)\n    File \"/home/jonat/miniconda3/envs/ASV/lib/python3.9/site-packages/keras/layers/convolutional/base_conv.py\", line 225, in convolution_op\n      return tf.nn.convolution(\nNode: 'sequential/conv2d/Conv2D'\nDNN library is not found.\n\t [[{{node sequential/conv2d/Conv2D}}]] [Op:__inference_predict_function_397]",
     "output_type": "error",
     "traceback": [
      "\u001b[0;31m---------------------------------------------------------------------------\u001b[0m",
      "\u001b[0;31mUnimplementedError\u001b[0m                        Traceback (most recent call last)",
      "\u001b[1;32m/home/jonat/jonat.ipynb Cell 5\u001b[0m line \u001b[0;36m3\n\u001b[1;32m     <a href='vscode-notebook-cell://ssh-remote%2B172.30.55.145/home/jonat/jonat.ipynb#W6sdnNjb2RlLXJlbW90ZQ%3D%3D?line=34'>35</a>\u001b[0m mfccs \u001b[39m=\u001b[39m mfccs\u001b[39m.\u001b[39mreshape(input_shape)\n\u001b[1;32m     <a href='vscode-notebook-cell://ssh-remote%2B172.30.55.145/home/jonat/jonat.ipynb#W6sdnNjb2RlLXJlbW90ZQ%3D%3D?line=36'>37</a>\u001b[0m \u001b[39m# Make predictions using the model\u001b[39;00m\n\u001b[0;32m---> <a href='vscode-notebook-cell://ssh-remote%2B172.30.55.145/home/jonat/jonat.ipynb#W6sdnNjb2RlLXJlbW90ZQ%3D%3D?line=37'>38</a>\u001b[0m predictions \u001b[39m=\u001b[39m model\u001b[39m.\u001b[39;49mpredict(mfccs)\n\u001b[1;32m     <a href='vscode-notebook-cell://ssh-remote%2B172.30.55.145/home/jonat/jonat.ipynb#W6sdnNjb2RlLXJlbW90ZQ%3D%3D?line=39'>40</a>\u001b[0m \u001b[39m# Interpret the predictions\u001b[39;00m\n\u001b[1;32m     <a href='vscode-notebook-cell://ssh-remote%2B172.30.55.145/home/jonat/jonat.ipynb#W6sdnNjb2RlLXJlbW90ZQ%3D%3D?line=40'>41</a>\u001b[0m \u001b[39mif\u001b[39;00m predictions[\u001b[39m0\u001b[39m][\u001b[39m0\u001b[39m] \u001b[39m>\u001b[39m \u001b[39m0.5\u001b[39m:\n",
      "File \u001b[0;32m~/miniconda3/envs/ASV/lib/python3.9/site-packages/keras/utils/traceback_utils.py:67\u001b[0m, in \u001b[0;36mfilter_traceback.<locals>.error_handler\u001b[0;34m(*args, **kwargs)\u001b[0m\n\u001b[1;32m     65\u001b[0m \u001b[39mexcept\u001b[39;00m \u001b[39mException\u001b[39;00m \u001b[39mas\u001b[39;00m e:  \u001b[39m# pylint: disable=broad-except\u001b[39;00m\n\u001b[1;32m     66\u001b[0m   filtered_tb \u001b[39m=\u001b[39m _process_traceback_frames(e\u001b[39m.\u001b[39m__traceback__)\n\u001b[0;32m---> 67\u001b[0m   \u001b[39mraise\u001b[39;00m e\u001b[39m.\u001b[39mwith_traceback(filtered_tb) \u001b[39mfrom\u001b[39;00m \u001b[39mNone\u001b[39;00m\n\u001b[1;32m     68\u001b[0m \u001b[39mfinally\u001b[39;00m:\n\u001b[1;32m     69\u001b[0m   \u001b[39mdel\u001b[39;00m filtered_tb\n",
      "File \u001b[0;32m~/miniconda3/envs/ASV/lib/python3.9/site-packages/tensorflow/python/eager/execute.py:54\u001b[0m, in \u001b[0;36mquick_execute\u001b[0;34m(op_name, num_outputs, inputs, attrs, ctx, name)\u001b[0m\n\u001b[1;32m     52\u001b[0m \u001b[39mtry\u001b[39;00m:\n\u001b[1;32m     53\u001b[0m   ctx\u001b[39m.\u001b[39mensure_initialized()\n\u001b[0;32m---> 54\u001b[0m   tensors \u001b[39m=\u001b[39m pywrap_tfe\u001b[39m.\u001b[39mTFE_Py_Execute(ctx\u001b[39m.\u001b[39m_handle, device_name, op_name,\n\u001b[1;32m     55\u001b[0m                                       inputs, attrs, num_outputs)\n\u001b[1;32m     56\u001b[0m \u001b[39mexcept\u001b[39;00m core\u001b[39m.\u001b[39m_NotOkStatusException \u001b[39mas\u001b[39;00m e:\n\u001b[1;32m     57\u001b[0m   \u001b[39mif\u001b[39;00m name \u001b[39mis\u001b[39;00m \u001b[39mnot\u001b[39;00m \u001b[39mNone\u001b[39;00m:\n",
      "\u001b[0;31mUnimplementedError\u001b[0m: Graph execution error:\n\nDetected at node 'sequential/conv2d/Conv2D' defined at (most recent call last):\n    File \"/home/jonat/miniconda3/envs/ASV/lib/python3.9/runpy.py\", line 197, in _run_module_as_main\n      return _run_code(code, main_globals, None,\n    File \"/home/jonat/miniconda3/envs/ASV/lib/python3.9/runpy.py\", line 87, in _run_code\n      exec(code, run_globals)\n    File \"/home/jonat/miniconda3/envs/ASV/lib/python3.9/site-packages/ipykernel_launcher.py\", line 17, in <module>\n      app.launch_new_instance()\n    File \"/home/jonat/miniconda3/envs/ASV/lib/python3.9/site-packages/traitlets/config/application.py\", line 1053, in launch_instance\n      app.start()\n    File \"/home/jonat/miniconda3/envs/ASV/lib/python3.9/site-packages/ipykernel/kernelapp.py\", line 736, in start\n      self.io_loop.start()\n    File \"/home/jonat/miniconda3/envs/ASV/lib/python3.9/site-packages/tornado/platform/asyncio.py\", line 199, in start\n      self.asyncio_loop.run_forever()\n    File \"/home/jonat/miniconda3/envs/ASV/lib/python3.9/asyncio/base_events.py\", line 601, in run_forever\n      self._run_once()\n    File \"/home/jonat/miniconda3/envs/ASV/lib/python3.9/asyncio/base_events.py\", line 1905, in _run_once\n      handle._run()\n    File \"/home/jonat/miniconda3/envs/ASV/lib/python3.9/asyncio/events.py\", line 80, in _run\n      self._context.run(self._callback, *self._args)\n    File \"/home/jonat/miniconda3/envs/ASV/lib/python3.9/site-packages/ipykernel/kernelbase.py\", line 516, in dispatch_queue\n      await self.process_one()\n    File \"/home/jonat/miniconda3/envs/ASV/lib/python3.9/site-packages/ipykernel/kernelbase.py\", line 505, in process_one\n      await dispatch(*args)\n    File \"/home/jonat/miniconda3/envs/ASV/lib/python3.9/site-packages/ipykernel/kernelbase.py\", line 412, in dispatch_shell\n      await result\n    File \"/home/jonat/miniconda3/envs/ASV/lib/python3.9/site-packages/ipykernel/kernelbase.py\", line 740, in execute_request\n      reply_content = await reply_content\n    File \"/home/jonat/miniconda3/envs/ASV/lib/python3.9/site-packages/ipykernel/ipkernel.py\", line 422, in do_execute\n      res = shell.run_cell(\n    File \"/home/jonat/miniconda3/envs/ASV/lib/python3.9/site-packages/ipykernel/zmqshell.py\", line 546, in run_cell\n      return super().run_cell(*args, **kwargs)\n    File \"/home/jonat/miniconda3/envs/ASV/lib/python3.9/site-packages/IPython/core/interactiveshell.py\", line 3024, in run_cell\n      result = self._run_cell(\n    File \"/home/jonat/miniconda3/envs/ASV/lib/python3.9/site-packages/IPython/core/interactiveshell.py\", line 3079, in _run_cell\n      result = runner(coro)\n    File \"/home/jonat/miniconda3/envs/ASV/lib/python3.9/site-packages/IPython/core/async_helpers.py\", line 129, in _pseudo_sync_runner\n      coro.send(None)\n    File \"/home/jonat/miniconda3/envs/ASV/lib/python3.9/site-packages/IPython/core/interactiveshell.py\", line 3284, in run_cell_async\n      has_raised = await self.run_ast_nodes(code_ast.body, cell_name,\n    File \"/home/jonat/miniconda3/envs/ASV/lib/python3.9/site-packages/IPython/core/interactiveshell.py\", line 3466, in run_ast_nodes\n      if await self.run_code(code, result, async_=asy):\n    File \"/home/jonat/miniconda3/envs/ASV/lib/python3.9/site-packages/IPython/core/interactiveshell.py\", line 3526, in run_code\n      exec(code_obj, self.user_global_ns, self.user_ns)\n    File \"/tmp/ipykernel_6542/846090201.py\", line 38, in <module>\n      predictions = model.predict(mfccs)\n    File \"/home/jonat/miniconda3/envs/ASV/lib/python3.9/site-packages/keras/utils/traceback_utils.py\", line 64, in error_handler\n      return fn(*args, **kwargs)\n    File \"/home/jonat/miniconda3/envs/ASV/lib/python3.9/site-packages/keras/engine/training.py\", line 2033, in predict\n      tmp_batch_outputs = self.predict_function(iterator)\n    File \"/home/jonat/miniconda3/envs/ASV/lib/python3.9/site-packages/keras/engine/training.py\", line 1845, in predict_function\n      return step_function(self, iterator)\n    File \"/home/jonat/miniconda3/envs/ASV/lib/python3.9/site-packages/keras/engine/training.py\", line 1834, in step_function\n      outputs = model.distribute_strategy.run(run_step, args=(data,))\n    File \"/home/jonat/miniconda3/envs/ASV/lib/python3.9/site-packages/keras/engine/training.py\", line 1823, in run_step\n      outputs = model.predict_step(data)\n    File \"/home/jonat/miniconda3/envs/ASV/lib/python3.9/site-packages/keras/engine/training.py\", line 1791, in predict_step\n      return self(x, training=False)\n    File \"/home/jonat/miniconda3/envs/ASV/lib/python3.9/site-packages/keras/utils/traceback_utils.py\", line 64, in error_handler\n      return fn(*args, **kwargs)\n    File \"/home/jonat/miniconda3/envs/ASV/lib/python3.9/site-packages/keras/engine/training.py\", line 490, in __call__\n      return super().__call__(*args, **kwargs)\n    File \"/home/jonat/miniconda3/envs/ASV/lib/python3.9/site-packages/keras/utils/traceback_utils.py\", line 64, in error_handler\n      return fn(*args, **kwargs)\n    File \"/home/jonat/miniconda3/envs/ASV/lib/python3.9/site-packages/keras/engine/base_layer.py\", line 1014, in __call__\n      outputs = call_fn(inputs, *args, **kwargs)\n    File \"/home/jonat/miniconda3/envs/ASV/lib/python3.9/site-packages/keras/utils/traceback_utils.py\", line 92, in error_handler\n      return fn(*args, **kwargs)\n    File \"/home/jonat/miniconda3/envs/ASV/lib/python3.9/site-packages/keras/engine/sequential.py\", line 374, in call\n      return super(Sequential, self).call(inputs, training=training, mask=mask)\n    File \"/home/jonat/miniconda3/envs/ASV/lib/python3.9/site-packages/keras/engine/functional.py\", line 458, in call\n      return self._run_internal_graph(\n    File \"/home/jonat/miniconda3/envs/ASV/lib/python3.9/site-packages/keras/engine/functional.py\", line 596, in _run_internal_graph\n      outputs = node.layer(*args, **kwargs)\n    File \"/home/jonat/miniconda3/envs/ASV/lib/python3.9/site-packages/keras/utils/traceback_utils.py\", line 64, in error_handler\n      return fn(*args, **kwargs)\n    File \"/home/jonat/miniconda3/envs/ASV/lib/python3.9/site-packages/keras/engine/base_layer.py\", line 1014, in __call__\n      outputs = call_fn(inputs, *args, **kwargs)\n    File \"/home/jonat/miniconda3/envs/ASV/lib/python3.9/site-packages/keras/utils/traceback_utils.py\", line 92, in error_handler\n      return fn(*args, **kwargs)\n    File \"/home/jonat/miniconda3/envs/ASV/lib/python3.9/site-packages/keras/layers/convolutional/base_conv.py\", line 250, in call\n      outputs = self.convolution_op(inputs, self.kernel)\n    File \"/home/jonat/miniconda3/envs/ASV/lib/python3.9/site-packages/keras/layers/convolutional/base_conv.py\", line 225, in convolution_op\n      return tf.nn.convolution(\nNode: 'sequential/conv2d/Conv2D'\nDNN library is not found.\n\t [[{{node sequential/conv2d/Conv2D}}]] [Op:__inference_predict_function_397]"
     ]
    }
   ],
   "source": [
    "import os\n",
    "import librosa\n",
    "import numpy as np\n",
    "from keras.models import load_model\n",
    "\n",
    "# Define the path to the trained model\n",
    "model_path = '../jonat/gautham-model.h5'\n",
    "\n",
    "# Load the trained model\n",
    "model = load_model(model_path)\n",
    "\n",
    "# Define the path to the audio file you want to test\n",
    "audio_file_path_to_test = '/home/jonat/datasets/release_in_the_wild/5.wav'\n",
    "\n",
    "# Define parameters for MFCC extraction (should match the parameters used during training)\n",
    "n_mfcc = 13\n",
    "max_length = 100\n",
    "\n",
    "# Load and preprocess the sample audio file\n",
    "\n",
    "# Load the audio file\n",
    "audio, sr = librosa.load(audio_file_path_to_test, sr=None)\n",
    "\n",
    "# Extract MFCC features\n",
    "mfccs = librosa.feature.mfcc(y=audio, sr=sr, n_mfcc=n_mfcc)\n",
    "\n",
    "# Ensure that the MFCCs have the same length as during training\n",
    "if mfccs.shape[1] < max_length:\n",
    "    mfccs = np.pad(mfccs, ((0, 0), (0, max_length - mfccs.shape[1])), mode='constant')\n",
    "else:\n",
    "    mfccs = mfccs[:, :max_length]\n",
    "\n",
    "# Reshape the MFCCs to match the input shape expected by the model\n",
    "input_shape = (1, n_mfcc, max_length, 1)\n",
    "mfccs = mfccs.reshape(input_shape)\n",
    "\n",
    "# Make predictions using the model\n",
    "predictions = model.predict(mfccs)\n",
    "\n",
    "# Interpret the predictions\n",
    "if predictions[0][0] > 0.5:\n",
    "    result = \"Fake\"\n",
    "else:\n",
    "    result = \"Not Fake\"\n",
    "\n",
    "# Print the result\n",
    "print(f\"The audio is classified as: {result}\")\n"
   ]
  }
 ],
 "metadata": {
  "kernelspec": {
   "display_name": "ASV",
   "language": "python",
   "name": "python3"
  },
  "language_info": {
   "codemirror_mode": {
    "name": "ipython",
    "version": 3
   },
   "file_extension": ".py",
   "mimetype": "text/x-python",
   "name": "python",
   "nbconvert_exporter": "python",
   "pygments_lexer": "ipython3",
   "version": "3.9.18"
  }
 },
 "nbformat": 4,
 "nbformat_minor": 2
}
